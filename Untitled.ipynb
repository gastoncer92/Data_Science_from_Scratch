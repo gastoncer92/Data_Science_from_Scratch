{
 "cells": [
  {
   "cell_type": "code",
   "execution_count": 1,
   "id": "956a4bac",
   "metadata": {},
   "outputs": [
    {
     "data": {
      "text/plain": [
       "'\\nCreated on Fri Jan 21 11:23:07 2022\\n\\n@author: Gaston\\n'"
      ]
     },
     "execution_count": 1,
     "metadata": {},
     "output_type": "execute_result"
    }
   ],
   "source": [
    "# -*- coding: utf-8 -*-\n",
    "\"\"\"\n",
    "Created on Fri Jan 21 11:23:07 2022\n",
    "\n",
    "@author: Gaston\n",
    "\"\"\""
   ]
  },
  {
   "cell_type": "markdown",
   "id": "ba6f5b94",
   "metadata": {},
   "source": [
    "# Finding Key Connectors"
   ]
  },
  {
   "cell_type": "markdown",
   "id": "27ce21d0",
   "metadata": {},
   "source": [
    "Disponemos de una lista de **usuarios**."
   ]
  },
  {
   "cell_type": "code",
   "execution_count": 2,
   "id": "bbd219d0",
   "metadata": {},
   "outputs": [],
   "source": [
    "users = [\n",
    "    \n",
    "    { \"id\": 0, \"name\": \"Hero\" },\n",
    "    { \"id\": 1, \"name\": \"Dunn\" },\n",
    "    { \"id\": 2, \"name\": \"Sue\" },\n",
    "    { \"id\": 3, \"name\": \"Chi\" },\n",
    "    { \"id\": 4, \"name\": \"Thor\" },\n",
    "    { \"id\": 5, \"name\": \"Clive\" },\n",
    "    { \"id\": 6, \"name\": \"Hicks\" },\n",
    "    { \"id\": 7, \"name\": \"Devin\" },\n",
    "    { \"id\": 8, \"name\": \"Kate\" },\n",
    "    { \"id\": 9, \"name\": \"Klein\" }\n",
    "        ]"
   ]
  },
  {
   "cell_type": "markdown",
   "id": "b08361cc",
   "metadata": {},
   "source": [
    "Y de una lista de relaciones de amistad"
   ]
  },
  {
   "cell_type": "code",
   "execution_count": 4,
   "id": "1259b5e4",
   "metadata": {},
   "outputs": [],
   "source": [
    "friendships = [(0, 1), (0, 2), (1, 2), (1, 3), (2, 3), (3, 4), (4, 5), (5, 6), (5, 7), (6, 8), (7, 8), (8, 9)]"
   ]
  },
  {
   "cell_type": "markdown",
   "id": "9f5bf087",
   "metadata": {},
   "source": [
    "Agregamos un campo de amistades a la lista de **usuarios**"
   ]
  },
  {
   "cell_type": "code",
   "execution_count": 7,
   "id": "39df4bdc",
   "metadata": {},
   "outputs": [],
   "source": [
    "for user in users:\n",
    "    user[\"friends\"]=[]"
   ]
  },
  {
   "cell_type": "markdown",
   "id": "b291814c",
   "metadata": {},
   "source": [
    "Y luego tomando como modelo $$ friendships = [(i_{1},j_{1}),(i_{2},j_{2})...,(i_{n},j_{n} )] $$"
   ]
  },
  {
   "cell_type": "code",
   "execution_count": 16,
   "id": "a3f3ae8c",
   "metadata": {},
   "outputs": [],
   "source": [
    "for i,j in friendships:\n",
    "    users[i][\"friends\"].append(users[j][\"name\"]) #en el campo friends del diccionario users, agregar su par ordenado, tomando el nombre \n",
    "    users[j][\"friends\"].append(users[i][\"name\"]) #se cruzan las ordenes para que los amigos compartan las amistades en común"
   ]
  },
  {
   "cell_type": "markdown",
   "id": "30d080d8",
   "metadata": {},
   "source": [
    "por ejemplo en el caso de id=1, Dum es amigo segun de friendships de Hero(0,1), de Sue(1,2) y Chi(1,3) \n",
    "y en...<br>\n",
    "* users[i][\"friends\"].append(users[j][\"name\"]) -->  { \"id\": 1, \"name\": \"Dunn\", \"friends\":[\"Sue\", \"Chi\"]},<br>\n",
    "pero Hero no queda incluido aunque veamos que son amigos al buscar para id=0, por eso se cruza de forma inmediata<br>\n",
    "* users[j][\"friends\"].append(users[i][\"name\"]) -->  { \"id\": 1, \"name\": \"Dunn\", \"friends\":[\"Hero\",\"Sue\", \"Chi\"]},<br>\n",
    "queda incluido antes porque entra para cuando id=0 al averiguar los amigos de Hero...<br>"
   ]
  },
  {
   "cell_type": "markdown",
   "id": "2cda8a9d",
   "metadata": {},
   "source": [
    "si buscaramos ¿cuál es el número medio de conexiones?, necesitamos el toral de conexiones."
   ]
  },
  {
   "cell_type": "code",
   "execution_count": 19,
   "id": "d8f78067",
   "metadata": {},
   "outputs": [],
   "source": [
    "def number_of_friends(user):\n",
    "    return len(user[\"friends\"]) # length of friend_ids list\n",
    "    \n",
    "total_connections = sum(number_of_friends(user) for user in users) # 24"
   ]
  },
  {
   "cell_type": "code",
   "execution_count": 20,
   "id": "ae8db9e8",
   "metadata": {},
   "outputs": [
    {
     "name": "stdout",
     "output_type": "stream",
     "text": [
      "24\n"
     ]
    }
   ],
   "source": [
    "print(total_connections)"
   ]
  },
  {
   "cell_type": "code",
   "execution_count": 21,
   "id": "c3feef3f",
   "metadata": {},
   "outputs": [],
   "source": [
    "num_users = len(users) # length of the users list\n",
    "avg_connections = total_connections / num_users # 2.4"
   ]
  },
  {
   "cell_type": "code",
   "execution_count": 27,
   "id": "0f32b776",
   "metadata": {},
   "outputs": [
    {
     "ename": "SyntaxError",
     "evalue": "invalid syntax (Temp/ipykernel_7496/54755673.py, line 3)",
     "output_type": "error",
     "traceback": [
      "\u001b[1;36m  File \u001b[1;32m\"C:\\Users\\Luengo\\AppData\\Local\\Temp/ipykernel_7496/54755673.py\"\u001b[1;36m, line \u001b[1;32m3\u001b[0m\n\u001b[1;33m    sorted(num_friends_by_id, key=lambda (user_id, num_friends): num_friends, reverse=True)# get it sorted\u001b[0m\n\u001b[1;37m                                         ^\u001b[0m\n\u001b[1;31mSyntaxError\u001b[0m\u001b[1;31m:\u001b[0m invalid syntax\n"
     ]
    }
   ],
   "source": [
    "# create a list (user_id, number_of_friends)\n",
    "num_friends_by_id = [(user[\"id\"], number_of_friends (user)) for user in users]\n",
    "sorted(num_friends_by_id, key=lambda (user_id, num_friends): num_friends, reverse=True)# get it sorted\n"
   ]
  },
  {
   "cell_type": "code",
   "execution_count": null,
   "id": "612178d8",
   "metadata": {},
   "outputs": [],
   "source": []
  }
 ],
 "metadata": {
  "kernelspec": {
   "display_name": "Python 3 (ipykernel)",
   "language": "python",
   "name": "python3"
  },
  "language_info": {
   "codemirror_mode": {
    "name": "ipython",
    "version": 3
   },
   "file_extension": ".py",
   "mimetype": "text/x-python",
   "name": "python",
   "nbconvert_exporter": "python",
   "pygments_lexer": "ipython3",
   "version": "3.9.7"
  }
 },
 "nbformat": 4,
 "nbformat_minor": 5
}
